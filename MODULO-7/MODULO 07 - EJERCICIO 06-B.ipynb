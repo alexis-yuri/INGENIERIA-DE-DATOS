{
  "cells": [
    {
      "cell_type": "markdown",
      "metadata": {
        "id": "uQuVY5kNjX5N"
      },
      "source": [
        "\n",
        "# MODULO 07 - EJERCICIO 06-B\n",
        "# ALEXIS YURI M.\n"
      ]
    },
    {
      "cell_type": "markdown",
      "metadata": {
        "id": "W6GyNyFD-1dd"
      },
      "source": [
        "Primero es necesario instalar y configurar PySpark en el notebook de Colab. Para eso se ejecutan las siguientes celdas para instalar las librerías necesarias y crear un contexto de Spark.\n",
        "\n",
        "\n"
      ]
    },
    {
      "cell_type": "code",
      "execution_count": 78,
      "metadata": {
        "colab": {
          "base_uri": "https://localhost:8080/"
        },
        "id": "AXX0LdusjgpU",
        "outputId": "e4b0d266-81cd-4acd-ad00-50f997df72f0"
      },
      "outputs": [
        {
          "output_type": "stream",
          "name": "stdout",
          "text": [
            "Requirement already satisfied: pyspark in /usr/local/lib/python3.12/dist-packages (3.5.1)\n",
            "Requirement already satisfied: findspark in /usr/local/lib/python3.12/dist-packages (2.0.1)\n",
            "Requirement already satisfied: py4j==0.10.9.7 in /usr/local/lib/python3.12/dist-packages (from pyspark) (0.10.9.7)\n",
            "SparkSession está lista para usar.\n"
          ]
        }
      ],
      "source": [
        "# Se instala PySpark y findspark\n",
        "!pip install pyspark findspark\n",
        "\n",
        "# Se inicializa findspark para encontrar la instalación de Spark.\n",
        "import findspark\n",
        "findspark.init()\n",
        "\n",
        "# Se importa SparkContext.\n",
        "from pyspark import SparkContext\n",
        "from pyspark.sql import SparkSession\n",
        "\n",
        "# Se crea una sesión de Spark si no existe.\n",
        "try:\n",
        "    spark.stop()\n",
        "except:\n",
        "    pass\n",
        "spark = SparkSession.builder.master(\"local[*]\").appName(\"Pipeline_kmeans\").getOrCreate()\n",
        "\n",
        "sc = spark.sparkContext\n",
        "\n",
        "print(\"SparkSession está lista para usar.\")"
      ]
    },
    {
      "cell_type": "markdown",
      "metadata": {
        "id": "YjmOAJsJkRNR"
      },
      "source": [
        "Paso 1: Genera un dataset con al menos 3 variables numéricas (edad, ingresos, frecuencia de compra).\n"
      ]
    },
    {
      "cell_type": "code",
      "execution_count": 79,
      "metadata": {
        "colab": {
          "base_uri": "https://localhost:8080/"
        },
        "id": "NGblWDt5jsHk",
        "outputId": "20735de0-1bfd-47eb-ce82-715f24fd2138"
      },
      "outputs": [
        {
          "output_type": "stream",
          "name": "stdout",
          "text": [
            "DataFrame creado:\n",
            "+----+--------+-----------------+\n",
            "|edad|ingresos|frecuencia_compra|\n",
            "+----+--------+-----------------+\n",
            "|  25|   30000|               10|\n",
            "|  28|   35000|               12|\n",
            "|  35|   60000|                5|\n",
            "|  38|   65000|                6|\n",
            "|  55|  120000|                2|\n",
            "|  60|  150000|                1|\n",
            "|  45|   90000|                8|\n",
            "|  48|   95000|                7|\n",
            "+----+--------+-----------------+\n",
            "\n",
            "root\n",
            " |-- edad: long (nullable = true)\n",
            " |-- ingresos: long (nullable = true)\n",
            " |-- frecuencia_compra: long (nullable = true)\n",
            "\n"
          ]
        }
      ],
      "source": [
        "# Se crea un DataFrame simulado con datos numéricos.\n",
        "data = spark.createDataFrame([\n",
        "    (25, 30000, 10),\n",
        "    (28, 35000, 12),\n",
        "    (35, 60000, 5),\n",
        "    (38, 65000, 6),\n",
        "    (55, 120000, 2),\n",
        "    (60, 150000, 1),\n",
        "    (45, 90000, 8),\n",
        "    (48, 95000, 7)\n",
        "], [\"edad\", \"ingresos\", \"frecuencia_compra\"])\n",
        "\n",
        "print(\"DataFrame creado:\")\n",
        "data.show()\n",
        "\n",
        "\n",
        "# Se muestra la estructura del DataFrame.\n",
        "data.printSchema()\n"
      ]
    },
    {
      "cell_type": "markdown",
      "metadata": {
        "id": "Cf4LTmNVjyzc"
      },
      "source": [
        "Paso 2: Ensambla las features con VectorAssembler.\n"
      ]
    },
    {
      "cell_type": "code",
      "execution_count": 80,
      "metadata": {
        "id": "GeX_Rs9Kj4xF"
      },
      "outputs": [],
      "source": [
        "# Se importa la librería VectorAssembler.\n",
        "from pyspark.ml.feature import VectorAssembler\n",
        "\n",
        "# Secombinan las columnas características usando VectorAssembler.\n",
        "assembler = VectorAssembler(\n",
        "    inputCols=[\"edad\", \"ingresos\", \"frecuencia_compra\"],\n",
        "    outputCol=\"features\"\n",
        ")\n"
      ]
    },
    {
      "cell_type": "markdown",
      "metadata": {
        "id": "ghezmLjh0JPy"
      },
      "source": [
        "Paso 3: Aplica el algoritmo KMeans().setK(4).\n"
      ]
    },
    {
      "cell_type": "code",
      "execution_count": 81,
      "metadata": {
        "id": "c2ppI_t90fgl"
      },
      "outputs": [],
      "source": [
        "# Se importan las librerías del pipeline y del modelo Kmeans.\n",
        "from pyspark.ml.clustering import KMeans\n",
        "from pyspark.ml import Pipeline\n",
        "\n",
        "# Se define el modelo Kmeans con 4 clusters.\n",
        "kmeans = KMeans(featuresCol=\"features\", k=4, seed=42)\n",
        "\n",
        "# Se define el flujo de trabajo con Pipeline, uniendo Vectorassembler con el modelo Kmeans.\n",
        "pipeline = Pipeline(stages=[assembler, kmeans])"
      ]
    },
    {
      "cell_type": "markdown",
      "metadata": {
        "id": "ph73fqUqj_NR"
      },
      "source": [
        "\n",
        "Paso 4: Entrena el modelo y obtén las predicciones."
      ]
    },
    {
      "cell_type": "code",
      "execution_count": 82,
      "metadata": {
        "id": "K1rtWg1pNbMs"
      },
      "outputs": [],
      "source": [
        "# Se entrena el Pipeline (se ajusta el VectorAssembler y entrena el modelo KMeans).\n",
        "model = pipeline.fit(data)\n",
        "\n",
        "# Se predicen los clústeres a los que pertenecen los clientes.\n",
        "predictions = model.transform(data)\n",
        "\n"
      ]
    },
    {
      "cell_type": "markdown",
      "metadata": {
        "id": "7SZpciMZ-u7k"
      },
      "source": [
        "Paso 5: Muestra los clústeres con .show() y visualiza si es posible."
      ]
    },
    {
      "cell_type": "code",
      "execution_count": 83,
      "metadata": {
        "id": "CD-nI0Xj-u7l",
        "colab": {
          "base_uri": "https://localhost:8080/"
        },
        "outputId": "80c799f4-1178-41d1-caf5-011f76908d67"
      },
      "outputs": [
        {
          "output_type": "stream",
          "name": "stdout",
          "text": [
            "DataFrame con las predicciones de clúster:\n",
            "+----+--------+-----------------+-------------------+----------+\n",
            "|edad|ingresos|frecuencia_compra|features           |prediction|\n",
            "+----+--------+-----------------+-------------------+----------+\n",
            "|25  |30000   |10               |[25.0,30000.0,10.0]|1         |\n",
            "|28  |35000   |12               |[28.0,35000.0,12.0]|1         |\n",
            "|35  |60000   |5                |[35.0,60000.0,5.0] |3         |\n",
            "|38  |65000   |6                |[38.0,65000.0,6.0] |3         |\n",
            "|55  |120000  |2                |[55.0,120000.0,2.0]|0         |\n",
            "|60  |150000  |1                |[60.0,150000.0,1.0]|2         |\n",
            "|45  |90000   |8                |[45.0,90000.0,8.0] |0         |\n",
            "|48  |95000   |7                |[48.0,95000.0,7.0] |0         |\n",
            "+----+--------+-----------------+-------------------+----------+\n",
            "\n"
          ]
        }
      ],
      "source": [
        "print(\"DataFrame con las predicciones de clúster:\")\n",
        "predictions.show(truncate=False)"
      ]
    },
    {
      "cell_type": "markdown",
      "metadata": {
        "id": "IcML8s3g-u7l"
      },
      "source": [
        "Paso 6: Calcula el ClusteringEvaluator con silhouette como métrica."
      ]
    },
    {
      "cell_type": "code",
      "execution_count": 84,
      "metadata": {
        "colab": {
          "base_uri": "https://localhost:8080/",
          "height": 791
        },
        "id": "FSD8sOL4-u7m",
        "outputId": "7eaad9e4-10c2-4740-eefe-f47b50763abe"
      },
      "outputs": [
        {
          "output_type": "stream",
          "name": "stdout",
          "text": [
            "Silhouette Score: 0.6409631618980055\n",
            "Interpretación: buena separación (≥ 0.5).\n",
            "\n",
            "Centroides de los clusters:\n",
            "Cluster 0: [4.93333333e+01 1.01666667e+05 5.66666667e+00]\n",
            "Cluster 1: [2.65e+01 3.25e+04 1.10e+01]\n",
            "Cluster 2: [6.0e+01 1.5e+05 1.0e+00]\n",
            "Cluster 3: [3.65e+01 6.25e+04 5.50e+00]\n",
            "+----------+-----+\n",
            "|prediction|count|\n",
            "+----------+-----+\n",
            "|         1|    2|\n",
            "|         3|    2|\n",
            "|         2|    1|\n",
            "|         0|    3|\n",
            "+----------+-----+\n",
            "\n"
          ]
        },
        {
          "output_type": "display_data",
          "data": {
            "text/plain": [
              "<Figure size 700x500 with 2 Axes>"
            ],
            "image/png": "[encoded data removed]"
          },
          "metadata": {}
        }
      ],
      "source": [
        "# Se importa la librería ClusteringEvaluator.\n",
        "from pyspark.ml.evaluation import ClusteringEvaluator\n",
        "\n",
        "# Se evalua el modelo con silhouette.\n",
        "evaluator = ClusteringEvaluator(featuresCol=\"features\", predictionCol=\"prediction\")\n",
        "silhouette_score = evaluator.evaluate(predictions)\n",
        "\n",
        "print('Silhouette Score:', silhouette_score)\n",
        "if silhouette_score >= 0.5:\n",
        "    print('Interpretación: buena separación (≥ 0.5).')\n",
        "elif silhouette_score >= 0.25:\n",
        "    print('Interpretación: separación moderada (0.25–0.5).')\n",
        "else:\n",
        "    print('Interpretación: separación pobre (< 0.25).')\n",
        "\n",
        "\n",
        "print('\\nCentroides de los clusters:')\n",
        "for i, c in enumerate(model.stages[-1].clusterCenters()):\n",
        "    print(f'Cluster {i}:', c)\n",
        "predictions.groupBy('prediction').count().show()\n",
        "\n",
        "\n",
        "\n",
        "import matplotlib.pyplot as plt\n",
        "pdf = predictions.select('edad','ingresos','prediction').toPandas()\n",
        "plt.figure(figsize=(7,5))\n",
        "scatter = plt.scatter(pdf['edad'], pdf['ingresos'], c=pdf['prediction'], cmap='viridis', s=80, alpha=0.85)\n",
        "for idx, (cx, cy, _cz) in enumerate(model.stages[-1].clusterCenters()):\n",
        "    plt.scatter(cx, cy, marker='X', s=200, c='red')\n",
        "    plt.text(cx, cy, f'C{idx}', ha='center', va='center', color='white')\n",
        "plt.xlabel('Edad')\n",
        "plt.ylabel('Ingresos')\n",
        "plt.title('Clusters de clientes (Edad vs Ingresos)')\n",
        "plt.colorbar(scatter, label='Cluster')\n",
        "plt.show()\n",
        "\n",
        "\n",
        "\n"
      ]
    },
    {
      "cell_type": "markdown",
      "metadata": {
        "id": "QPIMc2ZQ-u7m"
      },
      "source": [
        "Paso 7: Interpretación de los resultados.\n",
        "\n",
        "Interpretación del Silhouette Score:\n",
        "\n",
        "El Silhouette Score es una métrica que mide la cohesión y separación de los clústers. En otras palabras, nos dice qué tan bien definidos están los grupos que el algoritmo ha encontrado. Su valor varía entre -1 y +1.\n",
        "\n",
        "Un puntaje alto (cercano a 1.0), indica que cada objeto está bien agrupado en su propio clúster y que su clúster está bien separado de los demás. En el ejemplo, un puntaje como 0.6410 sería bueno (≥ 0.5).\n",
        "\n",
        "\n",
        "Interpretación de Centroides:\n",
        "\n",
        "- Representan el “promedio” de cada clúster (edad, ingresos, frecuencia).\n",
        "\n",
        "- Gráfico Edad vs Ingresos: muestra como los clientes se agrupan. Cada color es un clúster y la X roja es su centroide.\n",
        "\n",
        "- Interpretación:\n",
        "  - Hay un grupo de jóvenes con ingresos bajos.\n",
        "  - Un grupo intermedio con ingresos medios.\n",
        "  - Un grupo de transición (adultos son ingresos medio-alto).\n",
        "  - Y un grupo de adultos mayores con ingresos altos.\n",
        "\n",
        "\n"
      ]
    },
    {
      "cell_type": "code",
      "source": [
        "spark.stop()\n",
        "print('Spark detenido.')"
      ],
      "metadata": {
        "colab": {
          "base_uri": "https://localhost:8080/"
        },
        "id": "sQlJFAV4Omya",
        "outputId": "38451f72-8438-45e1-c984-c1aafbf02714"
      },
      "execution_count": 85,
      "outputs": [
        {
          "output_type": "stream",
          "name": "stdout",
          "text": [
            "Spark detenido.\n"
          ]
        }
      ]
    }
  ],
  "metadata": {
    "colab": {
      "provenance": []
    },
    "kernelspec": {
      "display_name": "Python 3",
      "name": "python3"
    },
    "language_info": {
      "name": "python"
    }
  },
  "nbformat": 4,
  "nbformat_minor": 0
}
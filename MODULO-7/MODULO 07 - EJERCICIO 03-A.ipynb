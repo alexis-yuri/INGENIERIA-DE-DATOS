{
  "cells": [
    {
      "cell_type": "markdown",
      "metadata": {
        "id": "uQuVY5kNjX5N"
      },
      "source": [
        "\n",
        "#\n",
        "# MODULO 07 - EJERCICIO 03-A\n",
        "# ALEXIS YURI M.\n"
      ]
    },
    {
      "cell_type": "markdown",
      "metadata": {
        "id": "W6GyNyFD-1dd"
      },
      "source": [
        "Primero es necesario instalar y configurar PySpark en el notebook de Colab. Para eso se ejecutan las siguientes celdas para instalar las librerías necesarias y crear un contexto de Spark.\n",
        "\n",
        "\n"
      ]
    },
    {
      "cell_type": "code",
      "execution_count": 2,
      "metadata": {
        "colab": {
          "base_uri": "https://localhost:8080/"
        },
        "id": "AXX0LdusjgpU",
        "outputId": "848c5794-b45b-470c-b3a1-afcff5a69742"
      },
      "outputs": [
        {
          "name": "stdout",
          "output_type": "stream",
          "text": [
            "Requirement already satisfied: pyspark in /usr/local/lib/python3.12/dist-packages (3.5.1)\n",
            "Requirement already satisfied: findspark in /usr/local/lib/python3.12/dist-packages (2.0.1)\n",
            "Requirement already satisfied: py4j==0.10.9.7 in /usr/local/lib/python3.12/dist-packages (from pyspark) (0.10.9.7)\n",
            "SparkContext creado.\n"
          ]
        }
      ],
      "source": [
        "\n",
        "# Se instalan PySpark y findspark.\n",
        "!pip install pyspark findspark\n",
        "\n",
        "# Se inicializa findspark.\n",
        "import findspark\n",
        "findspark.init()\n",
        "\n",
        "# Se importa SparkContext.\n",
        "from pyspark import SparkContext\n",
        "\n",
        "# Se crea un SparkContext si no existe.\n",
        "try:\n",
        "    sc.stop()\n",
        "except:\n",
        "    pass\n",
        "sc = SparkContext.getOrCreate()\n",
        "\n",
        "print(\"SparkContext creado.\")"
      ]
    },
    {
      "cell_type": "markdown",
      "metadata": {
        "id": "rKDC7W8vjnJD"
      },
      "source": [
        "Paso 1: Carga de los datos.\n",
        "\n",
        "Se crea un RDD a partir de una lista de frases usando sc.parallelize(), lo que simula la carga de un archivo de texto."
      ]
    },
    {
      "cell_type": "code",
      "execution_count": 11,
      "metadata": {
        "colab": {
          "base_uri": "https://localhost:8080/"
        },
        "id": "NGblWDt5jsHk",
        "outputId": "60365617-acd0-4d92-be01-d3bdaa25da41"
      },
      "outputs": [
        {
          "name": "stdout",
          "output_type": "stream",
          "text": [
            "Datos cargados en el RDD:\n"
          ]
        },
        {
          "data": {
            "text/plain": [
              "['Cuando cuentes cuentos',\n",
              " 'cuenta cuantos cuentos cuentas,',\n",
              " 'porque si no cuentas',\n",
              " 'cuantos cuentos cuentas',\n",
              " 'nunca sabrás cuántos cuentos sabes contar.']"
            ]
          },
          "execution_count": 11,
          "metadata": {},
          "output_type": "execute_result"
        }
      ],
      "source": [
        "# Se crea una lista de frases para simular un archivo de texto\n",
        "texto = [\n",
        "    \"Cuando cuentes cuentos\",\n",
        "    \"cuenta cuantos cuentos cuentas,\",\n",
        "    \"porque si no cuentas\",\n",
        "    \"cuantos cuentos cuentas\",\n",
        "    \"nunca sabrás cuántos cuentos sabes contar.\"\n",
        "]\n",
        "\n",
        "# Se cargan los datos en un RDD.\n",
        "lineas_rdd = sc.parallelize(texto)\n",
        "\n",
        "print(\"Datos cargados en el RDD:\")\n",
        "lineas_rdd.collect()"
      ]
    },
    {
      "cell_type": "markdown",
      "metadata": {
        "id": "Cf4LTmNVjyzc"
      },
      "source": [
        "Paso 2: Uso de flatMap() para separar el texto.\n",
        "\n",
        "Se utiliza flatMap() para dividir cada frase en palabras y, al mismo tiempo \"aplanar\" la estructura de los datos para tener una única lista de palabras."
      ]
    },
    {
      "cell_type": "code",
      "execution_count": 12,
      "metadata": {
        "colab": {
          "base_uri": "https://localhost:8080/"
        },
        "id": "GeX_Rs9Kj4xF",
        "outputId": "3203d675-856d-4fd7-a54e-1e502e25eedb"
      },
      "outputs": [
        {
          "name": "stdout",
          "output_type": "stream",
          "text": [
            "RDD con todas las palabras:\n"
          ]
        },
        {
          "data": {
            "text/plain": [
              "['cuando',\n",
              " 'cuentes',\n",
              " 'cuentos',\n",
              " 'cuenta',\n",
              " 'cuantos',\n",
              " 'cuentos',\n",
              " 'cuentas,',\n",
              " 'porque',\n",
              " 'si',\n",
              " 'no',\n",
              " 'cuentas',\n",
              " 'cuantos',\n",
              " 'cuentos',\n",
              " 'cuentas',\n",
              " 'nunca',\n",
              " 'sabrás',\n",
              " 'cuántos',\n",
              " 'cuentos',\n",
              " 'sabes',\n",
              " 'contar']"
            ]
          },
          "execution_count": 12,
          "metadata": {},
          "output_type": "execute_result"
        }
      ],
      "source": [
        "# Se convierten las frases en palabras y se \"aplana\" la lista.\n",
        "# Se convierten a minúsculas y se eliminan los puntos para una limpieza básica.\n",
        "palabras_rdd = lineas_rdd.flatMap(lambda linea: linea.lower().replace('.', '').split(' '))\n",
        "\n",
        "print(\"RDD con todas las palabras del texto:\")\n",
        "palabras_rdd.collect()"
      ]
    },
    {
      "cell_type": "markdown",
      "metadata": {
        "id": "ph73fqUqj_NR"
      },
      "source": [
        "Paso 3: Uso de filter() para eliminar palabras vacías o con menos de 4 letras.\n",
        "\n",
        "Para limpiar los datos se usa la transformación filter() para eliminar palabras vacías ('') y palabras que tengan menos de 4 letras."
      ]
    },
    {
      "cell_type": "code",
      "execution_count": 13,
      "metadata": {
        "colab": {
          "base_uri": "https://localhost:8080/"
        },
        "id": "Rr3RIs9BkEzp",
        "outputId": "62545a0b-37ea-40bf-c5d2-d0b215287356"
      },
      "outputs": [
        {
          "name": "stdout",
          "output_type": "stream",
          "text": [
            "RDD después de usar el filtrado:\n"
          ]
        },
        {
          "data": {
            "text/plain": [
              "['cuando',\n",
              " 'cuentes',\n",
              " 'cuentos',\n",
              " 'cuenta',\n",
              " 'cuantos',\n",
              " 'cuentos',\n",
              " 'cuentas,',\n",
              " 'porque',\n",
              " 'cuentas',\n",
              " 'cuantos',\n",
              " 'cuentos',\n",
              " 'cuentas',\n",
              " 'nunca',\n",
              " 'sabrás',\n",
              " 'cuántos',\n",
              " 'cuentos',\n",
              " 'sabes',\n",
              " 'contar']"
            ]
          },
          "execution_count": 13,
          "metadata": {},
          "output_type": "execute_result"
        }
      ],
      "source": [
        "# Se filtran las palabras vacías y con menos de 4 letras.\n",
        "palabras_filtradas_rdd = palabras_rdd.filter(lambda palabra: len(palabra) >= 4)\n",
        "\n",
        "print(\"RDD después de usar el filtrado:\")\n",
        "palabras_filtradas_rdd.collect()"
      ]
    },
    {
      "cell_type": "markdown",
      "metadata": {
        "id": "dRYQBE0OkIfD"
      },
      "source": [
        "Paso 4: Uso de map() para crear pares.\n",
        "\n",
        "Se crean pares clave-valor. La clave será cada palabra, y el valor será en número 1.\n",
        "Este formato se usará para poder contar las palabras."
      ]
    },
    {
      "cell_type": "code",
      "execution_count": 14,
      "metadata": {
        "colab": {
          "base_uri": "https://localhost:8080/"
        },
        "id": "X9dK7ot1kSLt",
        "outputId": "7fafc59c-e9f2-45aa-b5d8-b9092315eab5"
      },
      "outputs": [
        {
          "name": "stdout",
          "output_type": "stream",
          "text": [
            "RDD de pares (palabra, 1):\n"
          ]
        },
        {
          "data": {
            "text/plain": [
              "[('cuando', 1),\n",
              " ('cuentes', 1),\n",
              " ('cuentos', 1),\n",
              " ('cuenta', 1),\n",
              " ('cuantos', 1),\n",
              " ('cuentos', 1),\n",
              " ('cuentas,', 1),\n",
              " ('porque', 1),\n",
              " ('cuentas', 1),\n",
              " ('cuantos', 1),\n",
              " ('cuentos', 1),\n",
              " ('cuentas', 1),\n",
              " ('nunca', 1),\n",
              " ('sabrás', 1),\n",
              " ('cuántos', 1),\n",
              " ('cuentos', 1),\n",
              " ('sabes', 1),\n",
              " ('contar', 1)]"
            ]
          },
          "execution_count": 14,
          "metadata": {},
          "output_type": "execute_result"
        }
      ],
      "source": [
        "# Se crean pares (clave, valor).\n",
        "pares_rdd = palabras_filtradas_rdd.map(lambda palabra: (palabra, 1))\n",
        "\n",
        "print(\"RDD de pares (palabra, 1):\")\n",
        "pares_rdd.collect()"
      ]
    },
    {
      "cell_type": "markdown",
      "metadata": {
        "id": "51-HScCxkWrZ"
      },
      "source": [
        "Paso 5: Uso de reduceByKey() para contar la frecuencia de cada palabra.\n",
        "\n",
        "Se usa reduceByKey() para el conteo. Esta acción agrupa los valores por su clave y luego aplica la función suma, lo que entrega la frecuencia de cada palabra."
      ]
    },
    {
      "cell_type": "code",
      "execution_count": 15,
      "metadata": {
        "colab": {
          "base_uri": "https://localhost:8080/"
        },
        "id": "tEDfBO3xkb2Z",
        "outputId": "101f13c9-28cc-47a9-f32c-4e79f15f88da"
      },
      "outputs": [
        {
          "name": "stdout",
          "output_type": "stream",
          "text": [
            "RDD con cada palabra y su frecuencia:\n"
          ]
        },
        {
          "data": {
            "text/plain": [
              "[('cuando', 1),\n",
              " ('cuentes', 1),\n",
              " ('cuenta', 1),\n",
              " ('cuantos', 2),\n",
              " ('cuentas,', 1),\n",
              " ('cuentas', 2),\n",
              " ('nunca', 1),\n",
              " ('sabrás', 1),\n",
              " ('contar', 1),\n",
              " ('cuentos', 4),\n",
              " ('porque', 1),\n",
              " ('cuántos', 1),\n",
              " ('sabes', 1)]"
            ]
          },
          "execution_count": 15,
          "metadata": {},
          "output_type": "execute_result"
        }
      ],
      "source": [
        "# Se cuenta la frecuencia de cada palabra.\n",
        "frecuencias_rdd = pares_rdd.reduceByKey(lambda a, b: a + b)\n",
        "\n",
        "print(\"RDD con cada palabra y su frecuencia:\")\n",
        "frecuencias_rdd.collect()"
      ]
    },
    {
      "cell_type": "markdown",
      "metadata": {
        "id": "JLzeeNgRkgOx"
      },
      "source": [
        "Paso 6: Uso de sortBy() para mostrar las 5 palabras mas frecuentes.\n",
        "\n",
        "Se ordenan los resultados por la frecuencia de forma descendente."
      ]
    },
    {
      "cell_type": "code",
      "execution_count": 16,
      "metadata": {
        "id": "PFwpyBx2klng"
      },
      "outputs": [],
      "source": [
        "# Se ordena por frecuencia de forma descendente.\n",
        "top_5_rdd = frecuencias_rdd.sortBy(lambda par: par[1], ascending=False)\n"
      ]
    },
    {
      "cell_type": "markdown",
      "metadata": {
        "id": "eC7MD8SHD8nk"
      },
      "source": [
        "\n",
        "\n",
        "Paso 7: Uso de take() para mostrar el resultado.\n",
        "\n",
        "Finalmente, se mostran los 5 más frecuentes usando take(5).\n"
      ]
    },
    {
      "cell_type": "code",
      "execution_count": null,
      "metadata": {
        "colab": {
          "base_uri": "https://localhost:8080/"
        },
        "id": "psD0dr4MEqPG",
        "outputId": "579fc53d-129e-4100-abd0-40fb0cf84697"
      },
      "outputs": [
        {
          "name": "stdout",
          "output_type": "stream",
          "text": [
            "Las 5 palabras más frecuentes son:\n"
          ]
        },
        {
          "data": {
            "text/plain": [
              "[('cuentos', 4), ('cuantos', 2), ('cuentas', 2), ('cuando', 1), ('cuentes', 1)]"
            ]
          },
          "execution_count": 17,
          "metadata": {},
          "output_type": "execute_result"
        }
      ],
      "source": [
        "# Se muestran las 5 palabras más frecuentes.\n",
        "print(\"Las 5 palabras más frecuentes son:\")\n",
        "top_5_rdd.take(5)\n",
        "\n",
        "\n",
        "# Parada ordenada de Spark.\n",
        "spark.stop()\n",
        "print(\"\\n\")\n",
        "print(\"Spark detenido.\")"
      ]
    }
  ],
  "metadata": {
    "colab": {
      "provenance": []
    },
    "kernelspec": {
      "display_name": "Python 3",
      "name": "python3"
    },
    "language_info": {
      "name": "python"
    }
  },
  "nbformat": 4,
  "nbformat_minor": 0
}

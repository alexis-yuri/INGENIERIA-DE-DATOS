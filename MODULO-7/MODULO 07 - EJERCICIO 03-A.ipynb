{
  "cells": [
    {
      "cell_type": "markdown",
      "metadata": {
        "id": "uQuVY5kNjX5N"
      },
      "source": [
        "\n",
        "#\n",
        "# MODULO 07 - EJERCICIO 03-A\n",
        "# ALEXIS YURI M.\n"
      ]
    },
    {
      "cell_type": "markdown",
      "metadata": {
        "id": "W6GyNyFD-1dd"
      },
      "source": [
        "Primero es necesario instalar y configurar PySpark en el notebook de Colab. Para eso se ejecutan las siguientes celdas para instalar las librerías necesarias y crear un contexto de Spark.\n",
        "\n",
        "\n"
      ]
    },
    {
      "cell_type": "code",
      "execution_count": 12,
      "metadata": {
        "colab": {
          "base_uri": "https://localhost:8080/"
        },
        "id": "AXX0LdusjgpU",
        "outputId": "de4f08f0-b90f-4f47-f36c-83e67f9b0362"
      },
      "outputs": [
        {
          "output_type": "stream",
          "name": "stdout",
          "text": [
            "Requirement already satisfied: pyspark in /usr/local/lib/python3.12/dist-packages (3.5.1)\n",
            "Requirement already satisfied: findspark in /usr/local/lib/python3.12/dist-packages (2.0.1)\n",
            "Requirement already satisfied: py4j==0.10.9.7 in /usr/local/lib/python3.12/dist-packages (from pyspark) (0.10.9.7)\n",
            "SparkContext creado.\n"
          ]
        }
      ],
      "source": [
        "\n",
        "# Se instalan PySpark y findspark.\n",
        "!pip install pyspark findspark\n",
        "\n",
        "# Se inicializa findspark.\n",
        "import findspark\n",
        "findspark.init()\n",
        "\n",
        "# Se importa SparkContext.\n",
        "from pyspark import SparkContext\n",
        "\n",
        "# Se crea un SparkContext si no existe.\n",
        "try:\n",
        "    sc.stop()\n",
        "except:\n",
        "    pass\n",
        "sc = SparkContext.getOrCreate()\n",
        "\n",
        "print(\"SparkContext creado.\")"
      ]
    },
    {
      "cell_type": "markdown",
      "metadata": {
        "id": "rKDC7W8vjnJD"
      },
      "source": [
        "Paso 1: Carga de los datos.\n",
        "\n",
        "Se crea un RDD a partir de una lista de frases usando sc.parallelize(), lo que simula la carga de un archivo de texto."
      ]
    },
    {
      "cell_type": "code",
      "execution_count": 13,
      "metadata": {
        "colab": {
          "base_uri": "https://localhost:8080/"
        },
        "id": "NGblWDt5jsHk",
        "outputId": "848cee3f-99f9-4969-8f8b-fba91f761772"
      },
      "outputs": [
        {
          "output_type": "stream",
          "name": "stdout",
          "text": [
            "Datos cargados en el RDD:\n"
          ]
        },
        {
          "output_type": "execute_result",
          "data": {
            "text/plain": [
              "['Cuando cuentes cuentos',\n",
              " 'cuenta cuantos cuentos cuentas,',\n",
              " 'porque si no cuentas',\n",
              " 'cuantos cuentos cuentas',\n",
              " 'nunca sabrás cuántos cuentos sabes contar.']"
            ]
          },
          "metadata": {},
          "execution_count": 13
        }
      ],
      "source": [
        "# Se crea una lista de frases para simular un archivo de texto\n",
        "texto = [\n",
        "    \"Cuando cuentes cuentos\",\n",
        "    \"cuenta cuantos cuentos cuentas,\",\n",
        "    \"porque si no cuentas\",\n",
        "    \"cuantos cuentos cuentas\",\n",
        "    \"nunca sabrás cuántos cuentos sabes contar.\"\n",
        "]\n",
        "\n",
        "# Se cargan los datos en un RDD.\n",
        "lineas_rdd = sc.parallelize(texto)\n",
        "\n",
        "print(\"Datos cargados en el RDD:\")\n",
        "lineas_rdd.collect()"
      ]
    },
    {
      "cell_type": "markdown",
      "metadata": {
        "id": "Cf4LTmNVjyzc"
      },
      "source": [
        "Paso 2: Uso de flatMap() para separar el texto.\n",
        "\n",
        "Se utiliza flatMap() para dividir cada frase en palabras y, al mismo tiempo \"aplanar\" la estructura de los datos para tener una única lista de palabras."
      ]
    },
    {
      "cell_type": "code",
      "execution_count": 14,
      "metadata": {
        "colab": {
          "base_uri": "https://localhost:8080/"
        },
        "id": "GeX_Rs9Kj4xF",
        "outputId": "feb604eb-a8dc-4d85-8e91-0e5e47f336e6"
      },
      "outputs": [
        {
          "output_type": "stream",
          "name": "stdout",
          "text": [
            "RDD con todas las palabras del texto:\n"
          ]
        },
        {
          "output_type": "execute_result",
          "data": {
            "text/plain": [
              "['cuando',\n",
              " 'cuentes',\n",
              " 'cuentos',\n",
              " 'cuenta',\n",
              " 'cuantos',\n",
              " 'cuentos',\n",
              " 'cuentas,',\n",
              " 'porque',\n",
              " 'si',\n",
              " 'no',\n",
              " 'cuentas',\n",
              " 'cuantos',\n",
              " 'cuentos',\n",
              " 'cuentas',\n",
              " 'nunca',\n",
              " 'sabrás',\n",
              " 'cuántos',\n",
              " 'cuentos',\n",
              " 'sabes',\n",
              " 'contar']"
            ]
          },
          "metadata": {},
          "execution_count": 14
        }
      ],
      "source": [
        "# Se convierten las frases en palabras y se \"aplana\" la lista.\n",
        "# Se convierten a minúsculas y se eliminan los puntos para una limpieza básica.\n",
        "palabras_rdd = lineas_rdd.flatMap(lambda linea: linea.lower().replace('.', '').split(' '))\n",
        "\n",
        "print(\"RDD con todas las palabras del texto:\")\n",
        "palabras_rdd.collect()"
      ]
    },
    {
      "cell_type": "markdown",
      "metadata": {
        "id": "ph73fqUqj_NR"
      },
      "source": [
        "Paso 3: Uso de filter() para eliminar palabras vacías o con menos de 4 letras.\n",
        "\n",
        "Para limpiar los datos se usa la transformación filter() para eliminar palabras vacías ('') y palabras que tengan menos de 4 letras."
      ]
    },
    {
      "cell_type": "code",
      "execution_count": 15,
      "metadata": {
        "colab": {
          "base_uri": "https://localhost:8080/"
        },
        "id": "Rr3RIs9BkEzp",
        "outputId": "5de9f49c-d2de-4cdb-ce6e-206656b61604"
      },
      "outputs": [
        {
          "output_type": "stream",
          "name": "stdout",
          "text": [
            "RDD después de usar el filtrado:\n"
          ]
        },
        {
          "output_type": "execute_result",
          "data": {
            "text/plain": [
              "['cuando',\n",
              " 'cuentes',\n",
              " 'cuentos',\n",
              " 'cuenta',\n",
              " 'cuantos',\n",
              " 'cuentos',\n",
              " 'cuentas,',\n",
              " 'porque',\n",
              " 'cuentas',\n",
              " 'cuantos',\n",
              " 'cuentos',\n",
              " 'cuentas',\n",
              " 'nunca',\n",
              " 'sabrás',\n",
              " 'cuántos',\n",
              " 'cuentos',\n",
              " 'sabes',\n",
              " 'contar']"
            ]
          },
          "metadata": {},
          "execution_count": 15
        }
      ],
      "source": [
        "# Se filtran las palabras vacías y con menos de 4 letras.\n",
        "palabras_filtradas_rdd = palabras_rdd.filter(lambda palabra: len(palabra) >= 4)\n",
        "\n",
        "print(\"RDD después de usar el filtrado:\")\n",
        "palabras_filtradas_rdd.collect()"
      ]
    },
    {
      "cell_type": "markdown",
      "metadata": {
        "id": "dRYQBE0OkIfD"
      },
      "source": [
        "Paso 4: Uso de map() para crear pares.\n",
        "\n",
        "Se crean pares clave-valor. La clave será cada palabra, y el valor será en número 1.\n",
        "Este formato se usará para poder contar las palabras."
      ]
    },
    {
      "cell_type": "code",
      "execution_count": 16,
      "metadata": {
        "colab": {
          "base_uri": "https://localhost:8080/"
        },
        "id": "X9dK7ot1kSLt",
        "outputId": "73a226bd-37a8-4981-d954-e93d02916413"
      },
      "outputs": [
        {
          "output_type": "stream",
          "name": "stdout",
          "text": [
            "RDD de pares (palabra, 1):\n"
          ]
        },
        {
          "output_type": "execute_result",
          "data": {
            "text/plain": [
              "[('cuando', 1),\n",
              " ('cuentes', 1),\n",
              " ('cuentos', 1),\n",
              " ('cuenta', 1),\n",
              " ('cuantos', 1),\n",
              " ('cuentos', 1),\n",
              " ('cuentas,', 1),\n",
              " ('porque', 1),\n",
              " ('cuentas', 1),\n",
              " ('cuantos', 1),\n",
              " ('cuentos', 1),\n",
              " ('cuentas', 1),\n",
              " ('nunca', 1),\n",
              " ('sabrás', 1),\n",
              " ('cuántos', 1),\n",
              " ('cuentos', 1),\n",
              " ('sabes', 1),\n",
              " ('contar', 1)]"
            ]
          },
          "metadata": {},
          "execution_count": 16
        }
      ],
      "source": [
        "# Se crean pares (clave, valor).\n",
        "pares_rdd = palabras_filtradas_rdd.map(lambda palabra: (palabra, 1))\n",
        "\n",
        "print(\"RDD de pares (palabra, 1):\")\n",
        "pares_rdd.collect()"
      ]
    },
    {
      "cell_type": "markdown",
      "metadata": {
        "id": "51-HScCxkWrZ"
      },
      "source": [
        "Paso 5: Uso de reduceByKey() para contar la frecuencia de cada palabra.\n",
        "\n",
        "Se usa reduceByKey() para el conteo. Esta acción agrupa los valores por su clave y luego aplica la función suma, lo que entrega la frecuencia de cada palabra."
      ]
    },
    {
      "cell_type": "code",
      "execution_count": 17,
      "metadata": {
        "colab": {
          "base_uri": "https://localhost:8080/"
        },
        "id": "tEDfBO3xkb2Z",
        "outputId": "ed1bb740-129e-438d-87ac-6ca6626b3354"
      },
      "outputs": [
        {
          "output_type": "stream",
          "name": "stdout",
          "text": [
            "RDD con cada palabra y su frecuencia:\n"
          ]
        },
        {
          "output_type": "execute_result",
          "data": {
            "text/plain": [
              "[('cuando', 1),\n",
              " ('cuentes', 1),\n",
              " ('cuenta', 1),\n",
              " ('cuantos', 2),\n",
              " ('cuentas,', 1),\n",
              " ('cuentas', 2),\n",
              " ('nunca', 1),\n",
              " ('sabrás', 1),\n",
              " ('contar', 1),\n",
              " ('cuentos', 4),\n",
              " ('porque', 1),\n",
              " ('cuántos', 1),\n",
              " ('sabes', 1)]"
            ]
          },
          "metadata": {},
          "execution_count": 17
        }
      ],
      "source": [
        "# Se cuenta la frecuencia de cada palabra.\n",
        "frecuencias_rdd = pares_rdd.reduceByKey(lambda a, b: a + b)\n",
        "\n",
        "print(\"RDD con cada palabra y su frecuencia:\")\n",
        "frecuencias_rdd.collect()"
      ]
    },
    {
      "cell_type": "markdown",
      "metadata": {
        "id": "JLzeeNgRkgOx"
      },
      "source": [
        "Paso 6: Uso de sortBy() para mostrar las 5 palabras mas frecuentes.\n",
        "\n",
        "Se ordenan los resultados por la frecuencia de forma descendente."
      ]
    },
    {
      "cell_type": "code",
      "execution_count": 18,
      "metadata": {
        "id": "PFwpyBx2klng"
      },
      "outputs": [],
      "source": [
        "# Se ordena por frecuencia de forma descendente.\n",
        "top_5_rdd = frecuencias_rdd.sortBy(lambda par: par[1], ascending=False)\n"
      ]
    },
    {
      "cell_type": "markdown",
      "metadata": {
        "id": "eC7MD8SHD8nk"
      },
      "source": [
        "\n",
        "\n",
        "Paso 7: Uso de take() para mostrar el resultado.\n",
        "\n",
        "Finalmente, se mostran los 5 más frecuentes usando take(5).\n"
      ]
    },
    {
      "cell_type": "code",
      "execution_count": 19,
      "metadata": {
        "colab": {
          "base_uri": "https://localhost:8080/"
        },
        "id": "psD0dr4MEqPG",
        "outputId": "55cc4045-06e2-4d6d-b6d4-ac065eebc48f"
      },
      "outputs": [
        {
          "output_type": "stream",
          "name": "stdout",
          "text": [
            "Las 5 palabras más frecuentes son:\n",
            "[('cuentos', 4), ('cuantos', 2), ('cuentas', 2), ('cuando', 1), ('cuentes', 1)]\n"
          ]
        }
      ],
      "source": [
        "# Se muestran las 5 palabras más frecuentes.\n",
        "print(\"Las 5 palabras más frecuentes son:\")\n",
        "print(top_5_rdd.take(5))\n"
      ]
    },
    {
      "cell_type": "markdown",
      "source": [
        "Se detiene Sesion de Spark."
      ],
      "metadata": {
        "id": "1Q45k1_w1fMO"
      }
    },
    {
      "cell_type": "code",
      "source": [
        "# Parada ordenada de Spark.\n",
        "sc.stop()\n",
        "print(\"\\n\")\n",
        "print(\"Spark detenido.\")"
      ],
      "metadata": {
        "colab": {
          "base_uri": "https://localhost:8080/"
        },
        "id": "OL3dy9GI1k1k",
        "outputId": "a243d099-a549-4cb8-a415-2ca5d79791ca"
      },
      "execution_count": 20,
      "outputs": [
        {
          "output_type": "stream",
          "name": "stdout",
          "text": [
            "\n",
            "\n",
            "Spark detenido.\n"
          ]
        }
      ]
    }
  ],
  "metadata": {
    "colab": {
      "provenance": []
    },
    "kernelspec": {
      "display_name": "Python 3",
      "name": "python3"
    },
    "language_info": {
      "name": "python"
    }
  },
  "nbformat": 4,
  "nbformat_minor": 0
}